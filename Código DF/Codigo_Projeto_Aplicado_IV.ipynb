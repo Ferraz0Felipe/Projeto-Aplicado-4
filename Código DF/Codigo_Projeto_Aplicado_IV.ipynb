{
 "cells": [
  {
   "cell_type": "markdown",
   "metadata": {},
   "source": [
    " <img src=\"https://raw.githubusercontent.com/scalabrinig/cdProjetoAplicadoIV/d093146488f56dfcf0ef286bcee8efe0e71b9c76/figuras/mackenzie_logo.jpg\" width=\"25%\" align=\"right\"/>\n",
    "\n",
    "# **PROJETO APLICADO IV - Ciência de Dados EaD - 2025/02**\n",
    "\n",
    "\n",
    "# **Código**\n",
    "\n",
    "---\n"
   ]
  },
  {
   "cell_type": "markdown",
   "metadata": {},
   "source": [
    "# **Titulo do Projeto**: Projeto Aplicado IV – Análise de séries temporais para descrição e previsões"
   ]
  },
  {
   "cell_type": "code",
   "execution_count": 1,
   "metadata": {},
   "outputs": [],
   "source": [
    "#@title **Identificação do Grupo e Opção do Projeto**\n",
    "\n",
    "#@markdown Integrantes do Grupo, nome completo em ordem alfabética (*informe: \\<nome\\>, \\<matrícula\\>*)\n",
    "Aluno1 = 'Carlos Oliveira, 10424072' #@param {type:\"string\"}\n",
    "Aluno2 = 'Erick Isidoro, 10424337' #@param {type:\"string\"}\n",
    "Aluno3 = 'Felipe Perraz, 10218996' #@param {type:\"string\"}"
   ]
  },
  {
   "cell_type": "markdown",
   "metadata": {},
   "source": [
    "Link do Dados \n",
    "\n",
    "https://www.kaggle.com/code/leandroal/an-lise-do-e-commerce-no-brasil-olist-dataset"
   ]
  },
  {
   "cell_type": "markdown",
   "metadata": {},
   "source": [
    "1. Introdução \n",
    "No Brasil, milhares de compras são efetuadas pela Internet todos os anos. Trata-se de um mercado em constante ritmo de crescimento, de modo que seria extremamente relevante tentar entender comportamentos do consumidor inerentes a este contexto, como meses em que ocorrem maior quantidade de compras, horário em que são realizados mais negócios, tempo médio de entrega, nível de satisfação, etc.\n",
    "\n",
    "Para isso, foi selecionado um conjunto de dados disponibilizado pela Olist, a maior loja de departmento dos \"marketplaces\", com informações de mais de 100 mil pedidos de 2016 a 2018.\n",
    "\n",
    "Como se tratam de dados reais, estes foram disponibilizados de forma a manter o anonimato de qualquer indivíduo, empresa ou parceiro."
   ]
  },
  {
   "cell_type": "markdown",
   "metadata": {},
   "source": [
    "## Importação do banco de dados "
   ]
  },
  {
   "cell_type": "code",
   "execution_count": 2,
   "metadata": {},
   "outputs": [
    {
     "name": "stdout",
     "output_type": "stream",
     "text": [
      "Warning: Looks like you're using an outdated `kagglehub` version, please consider updating (latest version: 0.3.13)\n",
      "Path to dataset files: C:\\Users\\Carlos\\.cache\\kagglehub\\datasets\\olistbr\\brazilian-ecommerce\\versions\\2\n"
     ]
    }
   ],
   "source": [
    "import kagglehub\n",
    "\n",
    "# Download latest version\n",
    "path = kagglehub.dataset_download(\"olistbr/brazilian-ecommerce\")\n",
    "\n",
    "print(\"Path to dataset files:\", path)"
   ]
  },
  {
   "cell_type": "markdown",
   "metadata": {},
   "source": [
    "Importação da Blibliotecas"
   ]
  },
  {
   "cell_type": "code",
   "execution_count": 3,
   "metadata": {},
   "outputs": [
    {
     "name": "stdout",
     "output_type": "stream",
     "text": [
      "Bibliotecas preparadas!\n"
     ]
    }
   ],
   "source": [
    "import pandas as pd\n",
    "pd.options.display.float_format = '{:.2f}'.format\n",
    "import numpy as np\n",
    "import seaborn as sns\n",
    "import matplotlib.pyplot as plt\n",
    "from matplotlib.pyplot import figure\n",
    "plt.style.use('fivethirtyeight')\n",
    "import warnings\n",
    "warnings.filterwarnings('ignore')\n",
    "import folium\n",
    "from folium import plugins\n",
    "from sklearn.cluster import DBSCAN\n",
    "print('Bibliotecas preparadas!')"
   ]
  },
  {
   "cell_type": "markdown",
   "metadata": {},
   "source": [
    "Importação dos Datasets\n",
    "Foi realizada a importação de todos os datasets através do Pandas e posteriormente foram cruzados a fim de formar um único Dataframe com informações de: consumidores, geolocalização, pedidos, artigos, produtos, vendedores e avaliações."
   ]
  },
  {
   "cell_type": "code",
   "execution_count": 4,
   "metadata": {},
   "outputs": [
    {
     "name": "stdout",
     "output_type": "stream",
     "text": [
      "                        customer_id                customer_unique_id  \\\n",
      "0  06b8999e2fba1a1fbc88172c00ba8bc7  861eff4711a542e4b93843c6dd7febb0   \n",
      "1  18955e83d337fd6b2def6b18a428ac77  290c77bc529b7ac935b93aa66c333dc3   \n",
      "2  4e7b3e00288586ebd08712fdd0374a03  060e732b5b29e8181a18229c7b0b2b5e   \n",
      "3  b2b6027bc5c5109e529d4dc6358b12c3  259dac757896d24d7702b9acbbff3f3c   \n",
      "4  4f2d8ab171c80ec8364f7c12e35b23ad  345ecd01c38d18a9036ed96c73b8d066   \n",
      "\n",
      "   customer_zip_code_prefix          customer_city customer_state  \n",
      "0                     14409                 franca             SP  \n",
      "1                      9790  sao bernardo do campo             SP  \n",
      "2                      1151              sao paulo             SP  \n",
      "3                      8775        mogi das cruzes             SP  \n",
      "4                     13056               campinas             SP  \n"
     ]
    }
   ],
   "source": [
    "files = {\n",
    "    'customers': r'C:\\Users\\Carlos\\.cache\\kagglehub\\datasets\\olistbr\\brazilian-ecommerce\\versions\\2\\olist_customers_dataset.csv',\n",
    "    'geolocation': r'C:\\Users\\Carlos\\.cache\\kagglehub\\datasets\\olistbr\\brazilian-ecommerce\\versions\\2\\olist_geolocation_dataset.csv',\n",
    "    'items': r'C:\\Users\\Carlos\\.cache\\kagglehub\\datasets\\olistbr\\brazilian-ecommerce\\versions\\2\\olist_order_items_dataset.csv',\n",
    "    'payment': r'C:\\Users\\Carlos\\.cache\\kagglehub\\datasets\\olistbr\\brazilian-ecommerce\\versions\\2\\olist_order_payments_dataset.csv',\n",
    "    'orders': r'C:\\Users\\Carlos\\.cache\\kagglehub\\datasets\\olistbr\\brazilian-ecommerce\\versions\\2\\olist_orders_dataset.csv',\n",
    "    'products': r'C:\\Users\\Carlos\\.cache\\kagglehub\\datasets\\olistbr\\brazilian-ecommerce\\versions\\2\\olist_products_dataset.csv',\n",
    "    'sellers': r'C:\\Users\\Carlos\\.cache\\kagglehub\\datasets\\olistbr\\brazilian-ecommerce\\versions\\2\\olist_sellers_dataset.csv',\n",
    "    'review': r'C:\\Users\\Carlos\\.cache\\kagglehub\\datasets\\olistbr\\brazilian-ecommerce\\versions\\2\\olist_order_reviews_dataset.csv',\n",
    "}\n",
    "\n",
    "\n",
    "dfs = {}\n",
    "for key, value in files.items():\n",
    "    dfs[key] = pd.read_csv(value)\n",
    "\n",
    "# Exibir as primeiras linhas de um dataset (exemplo: customers)\n",
    "print(dfs['customers'].head())\n",
    "\n"
   ]
  },
  {
   "cell_type": "markdown",
   "metadata": {},
   "source": [
    "Cruzamento entre os Datasets e Transformação de Dados\n",
    "Os cruzamentos foram realizados de forma gradativa, para assegurar que não ocorresse duplicação de dados.\n"
   ]
  },
  {
   "cell_type": "code",
   "execution_count": 5,
   "metadata": {},
   "outputs": [],
   "source": [
    "# Cruzamento gradativo\n",
    "customers_location = dfs['customers'].merge(dfs['geolocation'], how='inner', left_on='customer_zip_code_prefix', right_on='geolocation_zip_code_prefix').drop_duplicates('customer_id', keep='first')\n",
    "cusloc_order = customers_location.merge(dfs['orders'], how='inner', on='customer_id')\n",
    "cuslocord_item = cusloc_order.merge(dfs['items'], how='inner', on='order_id')\n",
    "cuslocordite_prod = cuslocord_item.merge(dfs['products'], how='inner', on='product_id')\n",
    "cuslocordite_rev= cuslocordite_prod.merge(dfs['review'], how='left', on='order_id')\n",
    "\n",
    "# Selecionando as colunas de interesse\n",
    "final = cuslocordite_rev[['customer_id', 'customer_unique_id', 'customer_zip_code_prefix',\n",
    "       'customer_city', 'customer_state',\n",
    "       'geolocation_lat', 'geolocation_lng','order_id', 'order_status',\n",
    "       'order_purchase_timestamp', 'order_approved_at',\n",
    "       'order_delivered_carrier_date', 'order_delivered_customer_date',\n",
    "       'order_estimated_delivery_date', 'order_item_id', 'product_id',\n",
    "       'seller_id', 'shipping_limit_date', 'price', 'freight_value',\n",
    "       'product_category_name', 'product_photos_qty',\n",
    "       'review_id', 'review_score', 'review_comment_title',\n",
    "       'review_comment_message', 'review_creation_date',\n",
    "       'review_answer_timestamp']]\n"
   ]
  },
  {
   "cell_type": "markdown",
   "metadata": {},
   "source": [
    "## Tamanho do DF"
   ]
  },
  {
   "cell_type": "code",
   "execution_count": 6,
   "metadata": {},
   "outputs": [
    {
     "data": {
      "text/plain": [
       "(113007, 28)"
      ]
     },
     "execution_count": 6,
     "metadata": {},
     "output_type": "execute_result"
    }
   ],
   "source": [
    "final.shape"
   ]
  },
  {
   "cell_type": "markdown",
   "metadata": {},
   "source": [
    "## Mostrando os primeiros registros"
   ]
  },
  {
   "cell_type": "code",
   "execution_count": 7,
   "metadata": {},
   "outputs": [
    {
     "data": {
      "text/plain": [
       "<bound method NDFrame.head of                              customer_id                customer_unique_id  \\\n",
       "0       06b8999e2fba1a1fbc88172c00ba8bc7  861eff4711a542e4b93843c6dd7febb0   \n",
       "1       18955e83d337fd6b2def6b18a428ac77  290c77bc529b7ac935b93aa66c333dc3   \n",
       "2       4e7b3e00288586ebd08712fdd0374a03  060e732b5b29e8181a18229c7b0b2b5e   \n",
       "3       b2b6027bc5c5109e529d4dc6358b12c3  259dac757896d24d7702b9acbbff3f3c   \n",
       "4       4f2d8ab171c80ec8364f7c12e35b23ad  345ecd01c38d18a9036ed96c73b8d066   \n",
       "...                                  ...                               ...   \n",
       "113002  17ddf5dd5d51696bb3d7c6291687be6f  1a29b476fee25c95fbafc67c5ac95cf8   \n",
       "113003  e7b71a9017aa05c9a7fd292d714858e8  d52a67c98be1cf6a5c84435bd38d095d   \n",
       "113004  5e28dfe12db7fb50a4b2f691faecea5e  e9f50caf99f032f0bf3c55141f019d99   \n",
       "113005  56b18e2166679b8a959d72dd06da27f9  73c2643a0a458b49f58cea58833b192e   \n",
       "113006  274fa6071e5e17fe303b9748641082c8  84732c5050c01db9b23e19ba39899398   \n",
       "\n",
       "        customer_zip_code_prefix          customer_city customer_state  \\\n",
       "0                          14409                 franca             SP   \n",
       "1                           9790  sao bernardo do campo             SP   \n",
       "2                           1151              sao paulo             SP   \n",
       "3                           8775        mogi das cruzes             SP   \n",
       "4                          13056               campinas             SP   \n",
       "...                          ...                    ...            ...   \n",
       "113002                      3937              sao paulo             SP   \n",
       "113003                      6764        taboao da serra             SP   \n",
       "113004                     60115              fortaleza             CE   \n",
       "113005                     92120                 canoas             RS   \n",
       "113006                      6703                  cotia             SP   \n",
       "\n",
       "        geolocation_lat  geolocation_lng                          order_id  \\\n",
       "0                -20.51           -47.40  00e7ee1b050b8499577073aeb2a297a1   \n",
       "1                -23.73           -46.55  29150127e6685892b6eab3eec79f59c7   \n",
       "2                -23.53           -46.66  b2059ed67ce144a36e2aa97d2c9e9ad2   \n",
       "3                -23.50           -46.19  951670f92359f4fe4a63112aa7306eba   \n",
       "4                -22.99           -47.15  6b7d50bd145f6fc7f33cebabd7e49d0f   \n",
       "...                 ...              ...                               ...   \n",
       "113002           -23.59           -46.50  6760e20addcf0121e9d58f2f1ff14298   \n",
       "113003           -23.61           -46.77  9ec0c8947d973db4f4e8dcf1fbfa8f1b   \n",
       "113004            -3.74           -38.51  fed4434add09a6f332ea398efd656a5c   \n",
       "113005           -29.96           -51.17  e31ec91cea1ecf97797787471f98a8c2   \n",
       "113006           -23.59           -46.91  28db69209a75e59f20ccbb5c36a20b90   \n",
       "\n",
       "       order_status order_purchase_timestamp  ...  price freight_value  \\\n",
       "0         delivered      2017-05-16 15:05:35  ... 124.99         21.88   \n",
       "1         delivered      2018-01-12 20:48:24  ... 289.00         46.48   \n",
       "2         delivered      2018-05-19 16:07:45  ... 139.94         17.79   \n",
       "3         delivered      2018-03-13 16:06:38  ... 149.94         23.36   \n",
       "4         delivered      2018-07-29 09:51:30  ... 230.00         22.25   \n",
       "...             ...                      ...  ...    ...           ...   \n",
       "113002    delivered      2018-04-07 15:48:17  ...  74.90         13.88   \n",
       "113003    delivered      2018-04-04 08:20:22  ... 114.90         14.16   \n",
       "113004    delivered      2018-04-08 20:11:50  ...  37.00         19.04   \n",
       "113005    delivered      2017-11-03 21:08:33  ... 689.00         22.07   \n",
       "113006    delivered      2017-12-19 14:27:23  ...  13.99          7.78   \n",
       "\n",
       "         product_category_name product_photos_qty  \\\n",
       "0            moveis_escritorio               1.00   \n",
       "1        utilidades_domesticas               3.00   \n",
       "2            moveis_escritorio               1.00   \n",
       "3            moveis_escritorio               1.00   \n",
       "4                casa_conforto               1.00   \n",
       "...                        ...                ...   \n",
       "113002  livros_interesse_geral               2.00   \n",
       "113003           esporte_lazer               1.00   \n",
       "113004            beleza_saude               1.00   \n",
       "113005      relogios_presentes               1.00   \n",
       "113006              perfumaria               1.00   \n",
       "\n",
       "                               review_id review_score review_comment_title  \\\n",
       "0       88b8b52d46df026a9d1ad2136a59b30b         4.00                  NaN   \n",
       "1       02fc48a9efa3e3d0f1a8ea26507eeec3         5.00                  NaN   \n",
       "2       5ad6695d76ee186dc473c42706984d87         5.00                  NaN   \n",
       "3       059a801bb31f6aab2266e672cab87bc5         5.00                  NaN   \n",
       "4       8490879d58d6c5d7773f2739a03f089a         5.00        a melhor nota   \n",
       "...                                  ...          ...                  ...   \n",
       "113002  36e2cdbaa9f639b57c53b37ac798fee8         4.00            Recomendo   \n",
       "113003  b273b431c3aedb4eed18643309652940         5.00                  NaN   \n",
       "113004  fa4f16891e6b2edd1354668d07f5648b         1.00             Chateada   \n",
       "113005  0bcdc9e450ea500811a8d39ee993cd47         5.00                  NaN   \n",
       "113006  d95d701d062d2bb88041768a63aa750d         5.00                  NaN   \n",
       "\n",
       "                                   review_comment_message  \\\n",
       "0                                                     NaN   \n",
       "1                                                     NaN   \n",
       "2                                                     NaN   \n",
       "3                                                     NaN   \n",
       "4           O baratheon è esxelente Amo adoro o baratheon   \n",
       "...                                                   ...   \n",
       "113002                                                NaN   \n",
       "113003                                                NaN   \n",
       "113004  Esperava qualidade no atendimento e estou tend...   \n",
       "113005                                                NaN   \n",
       "113006  Produto chegou bem antes do prazo , gostei mui...   \n",
       "\n",
       "        review_creation_date  review_answer_timestamp  \n",
       "0        2017-05-26 00:00:00      2017-05-30 22:34:40  \n",
       "1        2018-01-30 00:00:00      2018-02-10 22:43:29  \n",
       "2        2018-06-15 00:00:00      2018-06-15 12:10:59  \n",
       "3        2018-03-29 00:00:00      2018-04-02 18:36:47  \n",
       "4        2018-08-10 00:00:00      2018-08-17 01:59:52  \n",
       "...                      ...                      ...  \n",
       "113002   2018-04-14 00:00:00      2018-04-28 11:15:04  \n",
       "113003   2018-04-12 00:00:00      2018-04-16 10:36:05  \n",
       "113004   2018-05-04 00:00:00      2018-05-08 01:41:07  \n",
       "113005   2017-11-17 00:00:00      2017-11-19 23:34:18  \n",
       "113006   2017-12-27 00:00:00      2017-12-27 23:21:06  \n",
       "\n",
       "[113007 rows x 28 columns]>"
      ]
     },
     "execution_count": 7,
     "metadata": {},
     "output_type": "execute_result"
    }
   ],
   "source": [
    "final.head"
   ]
  },
  {
   "cell_type": "markdown",
   "metadata": {},
   "source": [
    "## Todas as Colunas"
   ]
  },
  {
   "cell_type": "code",
   "execution_count": 8,
   "metadata": {},
   "outputs": [
    {
     "data": {
      "text/plain": [
       "Index(['customer_id', 'customer_unique_id', 'customer_zip_code_prefix',\n",
       "       'customer_city', 'customer_state', 'geolocation_lat', 'geolocation_lng',\n",
       "       'order_id', 'order_status', 'order_purchase_timestamp',\n",
       "       'order_approved_at', 'order_delivered_carrier_date',\n",
       "       'order_delivered_customer_date', 'order_estimated_delivery_date',\n",
       "       'order_item_id', 'product_id', 'seller_id', 'shipping_limit_date',\n",
       "       'price', 'freight_value', 'product_category_name', 'product_photos_qty',\n",
       "       'review_id', 'review_score', 'review_comment_title',\n",
       "       'review_comment_message', 'review_creation_date',\n",
       "       'review_answer_timestamp'],\n",
       "      dtype='object')"
      ]
     },
     "execution_count": 8,
     "metadata": {},
     "output_type": "execute_result"
    }
   ],
   "source": [
    "final.columns"
   ]
  },
  {
   "cell_type": "markdown",
   "metadata": {},
   "source": [
    "Também tomou-se a decisão de remover dados do ano de 2016 e do mês setembro de 2018, o primeiro por conter apenas 375 registros e o segundo por conter apenas um registro."
   ]
  },
  {
   "cell_type": "code",
   "execution_count": 9,
   "metadata": {},
   "outputs": [
    {
     "name": "stdout",
     "output_type": "stream",
     "text": [
      "<class 'pandas.core.frame.DataFrame'>\n",
      "RangeIndex: 112632 entries, 0 to 112631\n",
      "Data columns (total 29 columns):\n",
      " #   Column                         Non-Null Count   Dtype         \n",
      "---  ------                         --------------   -----         \n",
      " 0   customer_id                    112632 non-null  object        \n",
      " 1   customer_unique_id             112632 non-null  object        \n",
      " 2   customer_zip_code_prefix       112632 non-null  int64         \n",
      " 3   customer_city                  112632 non-null  object        \n",
      " 4   customer_state                 112632 non-null  object        \n",
      " 5   geolocation_lat                112632 non-null  float64       \n",
      " 6   geolocation_lng                112632 non-null  float64       \n",
      " 7   order_id                       112632 non-null  object        \n",
      " 8   order_status                   112632 non-null  object        \n",
      " 9   order_purchase_timestamp       112632 non-null  datetime64[ns]\n",
      " 10  order_approved_at              112617 non-null  object        \n",
      " 11  order_delivered_carrier_date   111473 non-null  datetime64[ns]\n",
      " 12  order_delivered_customer_date  110219 non-null  datetime64[ns]\n",
      " 13  order_estimated_delivery_date  112632 non-null  datetime64[ns]\n",
      " 14  order_item_id                  112632 non-null  int64         \n",
      " 15  product_id                     112632 non-null  object        \n",
      " 16  seller_id                      112632 non-null  object        \n",
      " 17  shipping_limit_date            112632 non-null  datetime64[ns]\n",
      " 18  price                          112632 non-null  float64       \n",
      " 19  freight_value                  112632 non-null  float64       \n",
      " 20  product_category_name          111028 non-null  object        \n",
      " 21  product_photos_qty             111028 non-null  float64       \n",
      " 22  review_id                      111697 non-null  object        \n",
      " 23  review_score                   111697 non-null  float64       \n",
      " 24  review_comment_title           13389 non-null   object        \n",
      " 25  review_comment_message         47237 non-null   object        \n",
      " 26  review_creation_date           111697 non-null  datetime64[ns]\n",
      " 27  review_answer_timestamp        111697 non-null  datetime64[ns]\n",
      " 28  delivery_time                  110219 non-null  float64       \n",
      "dtypes: datetime64[ns](7), float64(7), int64(2), object(13)\n",
      "memory usage: 24.9+ MB\n"
     ]
    }
   ],
   "source": [
    "# Garantindo que todas as colunas sejam datetime\n",
    "datas = [\n",
    "    'order_purchase_timestamp',\n",
    "    'order_delivered_carrier_date',\n",
    "    'order_delivered_customer_date',\n",
    "    'order_estimated_delivery_date',\n",
    "    'shipping_limit_date',\n",
    "    'review_creation_date',\n",
    "    'review_answer_timestamp'\n",
    "]\n",
    "\n",
    "for data in datas:\n",
    "    final[data] = pd.to_datetime(final[data], errors='coerce')  # Converter e tratar erros\n",
    "\n",
    "# Criando coluna de tempo de entrega\n",
    "final['delivery_time'] = (final['order_delivered_customer_date'] - final['order_purchase_timestamp']).dt.days\n",
    "\n",
    "# Seleção do período de interesse\n",
    "final = final[(final['order_purchase_timestamp'].dt.year > 2016) \n",
    "              & \n",
    "              (final['order_purchase_timestamp'] < pd.to_datetime('20180901'))\n",
    "             ]\n",
    "final = final.reset_index(drop=True)\n",
    "final.info()"
   ]
  },
  {
   "cell_type": "markdown",
   "metadata": {},
   "source": [
    "## Tamanho do DF Removidos valores "
   ]
  },
  {
   "cell_type": "code",
   "execution_count": 10,
   "metadata": {},
   "outputs": [
    {
     "data": {
      "text/plain": [
       "(112632, 29)"
      ]
     },
     "execution_count": 10,
     "metadata": {},
     "output_type": "execute_result"
    }
   ],
   "source": [
    "final.shape"
   ]
  },
  {
   "cell_type": "markdown",
   "metadata": {},
   "source": [
    "customer_id: Identificação única do cliente (específica para o sistema).\n",
    "\n",
    "customer_unique_id: Identificador exclusivo do cliente, usado para rastrear o mesmo cliente em várias transações.\n",
    "\n",
    "customer_zip_code_prefix: Prefixo do código postal do cliente.\n",
    "\n",
    "customer_city: Cidade onde o cliente está localizado.\n",
    "\n",
    "customer_state: Estado onde o cliente está localizado.\n",
    "\n",
    "geolocation_lat: Latitude do cliente (geolocalização).\n",
    "\n",
    "geolocation_lng: Longitude do cliente (geolocalização).\n",
    "\n",
    "order_id: Identificação única do pedido.\n",
    "\n",
    "order_status: Status do pedido (por exemplo, entregue, pendente, cancelado).\n",
    "\n",
    "order_purchase_timestamp: Data e hora em que o pedido foi realizado.\n",
    "\n",
    "order_approved_at: Data e hora em que o pedido foi aprovado.\n",
    "\n",
    "order_delivered_carrier_date: Data em que o pedido foi enviado ao transportador.\n",
    "\n",
    "order_delivered_customer_date: Data em que o pedido foi entregue ao cliente.\n",
    "\n",
    "order_estimated_delivery_date: Data estimada de entrega do pedido.\n",
    "\n",
    "order_item_id: Identificador único de um item dentro de um pedido (caso tenha múltiplos itens).\n",
    "\n",
    "product_id: Identificador único do produto.\n",
    "\n",
    "seller_id: Identificação única do vendedor que forneceu o produto.\n",
    "\n",
    "shipping_limit_date: Data limite para envio do produto ao transportador.\n",
    "\n",
    "price: Preço do produto.\n",
    "\n",
    "freight_value: Valor do frete para o pedido.\n",
    "\n",
    "product_category_name: Nome da categoria do produto.\n",
    "\n",
    "product_photos_qty: Número de fotos do produto disponíveis.\n",
    "\n",
    "review_id: Identificação única da avaliação feita pelo cliente.\n",
    "\n",
    "review_score: Pontuação da avaliação (exemplo: de 1 a 5 estrelas).\n",
    "\n",
    "review_comment_title: Título do comentário da avaliação.\n",
    "\n",
    "review_comment_message: Mensagem detalhada do comentário da avaliação.\n",
    "\n",
    "review_creation_date: Data em que o cliente criou a avaliação.\n",
    "\n",
    "review_answer_timestamp: Data em que a avaliação foi respondida pelo sistema ou vendedor.\n",
    "\n",
    "delivery_time: Tempo de entrega em dias (calculado com base nas datas de compra e entrega)."
   ]
  },
  {
   "cell_type": "code",
   "execution_count": 11,
   "metadata": {},
   "outputs": [
    {
     "data": {
      "text/plain": [
       "Index(['customer_id', 'customer_unique_id', 'customer_zip_code_prefix',\n",
       "       'customer_city', 'customer_state', 'geolocation_lat', 'geolocation_lng',\n",
       "       'order_id', 'order_status', 'order_purchase_timestamp',\n",
       "       'order_approved_at', 'order_delivered_carrier_date',\n",
       "       'order_delivered_customer_date', 'order_estimated_delivery_date',\n",
       "       'order_item_id', 'product_id', 'seller_id', 'shipping_limit_date',\n",
       "       'price', 'freight_value', 'product_category_name', 'product_photos_qty',\n",
       "       'review_id', 'review_score', 'review_comment_title',\n",
       "       'review_comment_message', 'review_creation_date',\n",
       "       'review_answer_timestamp', 'delivery_time'],\n",
       "      dtype='object')"
      ]
     },
     "execution_count": 11,
     "metadata": {},
     "output_type": "execute_result"
    }
   ],
   "source": [
    "final.columns"
   ]
  }
 ],
 "metadata": {
  "kernelspec": {
   "display_name": "base",
   "language": "python",
   "name": "python3"
  },
  "language_info": {
   "codemirror_mode": {
    "name": "ipython",
    "version": 3
   },
   "file_extension": ".py",
   "mimetype": "text/x-python",
   "name": "python",
   "nbconvert_exporter": "python",
   "pygments_lexer": "ipython3",
   "version": "3.12.4"
  }
 },
 "nbformat": 4,
 "nbformat_minor": 2
}
