{
 "cells": [
  {
   "cell_type": "markdown",
   "metadata": {
    "colab_type": "text",
    "id": "view-in-github"
   },
   "source": [
    "<a href=\"https://colab.research.google.com/github/scalabrinig/cdProjetoAplicadoIV/blob/master/projeto/cd_projeto_aplicado_IV_entrega_1.ipynb\" target=\"_parent\"><img src=\"https://colab.research.google.com/assets/colab-badge.svg\" alt=\"Open In Colab\"/></a>"
   ]
  },
  {
   "cell_type": "markdown",
   "metadata": {
    "id": "Ux5TSX--qOft"
   },
   "source": [
    "  <img src=\"https://raw.githubusercontent.com/scalabrinig/cdProjetoAplicadoIV/d093146488f56dfcf0ef286bcee8efe0e71b9c76/figuras/mackenzie_logo.jpg\" width=\"25%\" align=\"right\"/>\n",
    "\n",
    "# **PROJETO APLICADO IV - Ciência de Dados EaD - 2025/02**\n",
    "\n",
    "\n",
    "# **Entrega 1**\n",
    "\n",
    "---"
   ]
  },
  {
   "cell_type": "markdown",
   "metadata": {
    "id": "-UJ6Rj9jrJFM"
   },
   "source": [
    "# **Titulo do Projeto**: Projeto Aplicado IV – Análise de séries temporais para descrição e previsões\n",
    "\n",
    "---"
   ]
  },
  {
   "cell_type": "code",
   "execution_count": 3,
   "metadata": {
    "id": "yky3TEyXoGaY"
   },
   "outputs": [],
   "source": [
    "#@Projeto Aplicado IV – Análise de séries temporais para descrição e previsões  \n",
    "\n",
    "##**Identificação do Grupo e Opção do Projeto**\n",
    "\n",
    "#@markdown Integrantes do Grupo, nome completo em ordem alfabética (*informe: \\<nome\\>, \\<matrícula\\>*)\n",
    "Aluno1 = 'Carlos Oliveira, 10424072' #@param {type:\"string\"}\n",
    "Aluno2 = 'Erick Isidoro, 10424337' #@param {type:\"string\"}\n",
    "Aluno3 = 'Felipe Perraz, 10218996' #@param {type:\"string\"}"
   ]
  },
  {
   "cell_type": "markdown",
   "metadata": {
    "id": "3_YOokpLogtZ"
   },
   "source": [
    "# **Introdução**\n",
    "\n",
    "O comércio eletrônico tem se consolidado como um dos principais vetores de crescimento \n",
    "econômico na era digital, impulsionado pela ampliação do acesso à internet, pela evolução\n",
    " das tecnologias de informação e comunicação, e pelas mudanças nos hábitos de consumo. \n",
    " No Brasil, esse setor apresenta expansão significativa, refletida no aumento do volume \n",
    " de transações e na diversificação das categorias de produtos ofertados. \n",
    " Contudo, esse cenário ainda apresenta lacunas importantes, especialmente no que diz \n",
    " respeito à previsibilidade da demanda, à gestão eficiente de estoques e à adaptação \n",
    " às flutuações sazonais do mercado.\n",
    "\n",
    "Entre os principais desafios enfrentados pelas plataformas de e-commerce estão a dificuldade\n",
    " em antecipar variações nos padrões de consumo, a ausência de sistemas analíticos integrados \n",
    " que permitam extrair conhecimento a partir de dados históricos, e a limitação na personalização \n",
    " de estratégias logísticas e de marketing. Tais lacunas representam oportunidades relevantes \n",
    " para a aplicação de tecnologias de análise de dados, especialmente modelos de séries temporais, \n",
    " que possibilitam a identificação de tendências, sazonalidades e ciclos de demanda, contribuindo \n",
    " para decisões mais informadas e eficazes.\n",
    "\n",
    "\n",
    "\n",
    "\n",
    "\n"
   ]
  },
  {
   "cell_type": "markdown",
   "metadata": {
    "id": "jE9yYM31oqr3"
   },
   "source": [
    "# **Motivações e justificativa**\n",
    "\n",
    "O comércio eletrônico brasileiro apresentou crescimento médio anual de 16,5 % entre 2016 e 2018, atingindo um faturamento de R$ 61,9 bilhões em 2018, segundo a Ebit/Nielsen. Esses números refletem tanto o aumento no número de consumidores ativos quanto a diversificação de categorias de produtos ofertados. Apesar desse avanço, estudos apontam que até 30 % dos varejistas online enfrentam problemas de ruptura de estoque e custos de armazenagem elevados, resultando em perdas estimadas em 5 % do faturamento anual por falta de previsão adequada de demanda. A análise de séries temporais pode mitigar esses riscos ao oferecer estimativas mais confiáveis, apoiando o equilíbrio entre oferta e demanda.\n",
    "\n",
    "\n",
    "\n",
    "Esse detalhamento viabiliza a escolha de técnicas adequadas de modelagem temporal, agregação e feature engineering, considerando variáveis de tempo, valor monetário, características geográficas e atributos dos produtos.\n",
    "\n",
    "Previsões de vendas\n",
    "O sistema realizará previsões de duas métricas principais:\n",
    "\n",
    "Volume de pedidos: estimativa diária, semanal e mensal do número de compras registradas por produto e por região.\n",
    "\n",
    "Faturamento: projeção do valor monetário total das vendas nos mesmos horizontes temporais, permitindo simulações de receita.\n",
    "\n",
    "Essas previsões serão geradas usando modelos de séries temporais (ARIMA, ETS, Prophet) e métodos de machine learning (LSTM, XGBoost), comparando desempenho por granularidade e por categoria de produto.\n",
    "\n",
    "Relevância, interesses e aplicabilidade\n",
    "A aplicação de modelos preditivos na gestão de e-commerce oferece benefícios diretos, como redução de 10 % a 20 % nos custos de estoque, aumento de até 15 % na taxa de atendimento ao cliente e melhor alocação de recursos logísticos. Além disso, o projeto contribui para práticas comerciais sustentáveis ao evitar desperdícios decorrentes de superestoques e produtos obsoletos. A solução proposta pode ser adotada por plataformas de e-commerce, operadores logísticos e equipes de marketing digital, ampliando sua relevância para diferentes atores da cadeia de valor e fortalecendo a competitividade do setor na economia digital.\n",
    "\n",
    "A relevância deste estudo está diretamente relacionada à sua contribuição para o aprimoramento da gestão comercial em ambientes digitais, por meio da aplicação de técnicas estatísticas e computacionais avançadas. Além disso, o projeto está alinhado aos Objetivos de Desenvolvimento Sustentável (ODS) da Organização das Nações Unidas (ONU), destacando-se:\n",
    "\n",
    "ODS 8 – Trabalho decente e crescimento econômico: ao promover maior eficiência operacional e apoiar o desenvolvimento de negócios digitais.\n",
    "\n",
    "ODS 9 – Indústria, inovação e infraestrutura: ao incorporar inovação tecnológica na análise e previsão de dados comerciais.\n",
    "\n",
    "ODS 11 – Cidades e comunidades sustentáveis: ao incentivar o consumo responsável e a redução de desperdícios por meio da análise de produtos sustentáveis.\n",
    "\n",
    "Os dados utilizados neste estudo foram obtidos na plataforma Kaggle, por meio do conjunto “Análise do e-Commerce no Brasil – Olist Dataset”, que contempla o período de 2016 a 2018. O conjunto de dados, disponibilizado pela empresa Olist, reúne informações reais de mais de 100 mil pedidos, organizados em oito categorias: consumidores, vendedores, produtos, pedidos, itens dos pedidos, pagamentos, avaliações e geolocalização. Ressalta-se que os dados foram anonimizados, preservando a identidade dos indivíduos e empresas envolvidas, em conformidade com princípios éticos e legais."
   ]
  },
  {
   "cell_type": "markdown",
   "metadata": {
    "id": "Tax--lV7ov7G"
   },
   "source": [
    "# **Objetivo**\n",
    "\n",
    "Neste contexto, o presente projeto tem como objetivo geral desenvolver um sistema de análise de \n",
    "séries temporais voltado ao estudo dos padrões de vendas no comércio eletrônico. A partir da \n",
    "identificação de comportamentos históricos de compra, busca-se gerar previsões acuradas que \n",
    "subsidiem decisões estratégicas em plataformas de e-commerce.\n",
    "\n",
    "Objetivos específicos\n",
    "Analisar a evolução temporal dos volumes de pedidos e do faturamento.\n",
    "\n",
    "Identificar padrões de tendência, sazonalidade e ciclos de demanda.\n",
    "\n",
    "Elaborar modelos preditivos para estimar o comportamento futuro das vendas.\n",
    "\n",
    "Apoiar o planejamento de estoque, logística e ações de marketing digital.\n",
    "\n",
    "\n",
    "\n"
   ]
  },
  {
   "cell_type": "markdown",
   "metadata": {
    "id": "VG897rGOo1Rv"
   },
   "source": [
    "# **Descrição da base de dados**\n",
    "\n",
    "Apresentação da base de dados\n",
    "Os dados foram obtidos no “Olist e-Commerce Dataset” (2016-2018) disponibilizado no Kaggle. A estrutura principal compreende oito tabelas inter-relacionadas, destacando-se os seguintes atributos:\n",
    "\n",
    "Consumidores: customer_unique_id; customer_zip_code_prefix; customer_city; customer_state\n",
    "\n",
    "Vendedores: seller_id; seller_zip_code_prefix; seller_city; seller_state\n",
    "\n",
    "Pedidos: order_id; customer_id; order_status; order_purchase_timestamp; order_approved_at; order_delivered_customer_date\n",
    "\n",
    "Itens dos pedidos: order_id; order_item_id; product_id; seller_id; shipping_limit_date; price; freight_value\n",
    "\n",
    "Pagamentos: order_id; payment_sequential; payment_type; payment_installments; payment_value\n",
    "\n",
    "Produtos: product_id; product_category_name; product_weight_g; product_length_cm; product_height_cm; product_width_cm\n",
    "\n",
    "Geolocalização: geolocation_zip_code_prefix; geolocation_lat; geolocation_lng; geolocation_city; geolocation_state"
   ]
  },
  {
   "cell_type": "markdown",
   "metadata": {
    "id": "KucOdKJLo3bG"
   },
   "source": [
    "# **Referências**\n",
    " Hyndman, R. J., & Athanasopoulos, G. (2018). Forecasting: Principles and practice (2nd ed.). OTexts. Retrieved February 20, 2025, from https://otexts.com/fpp2/\n",
    "\n",
    "Chatfield, C. (2003). The analysis of time series: An introduction (6th ed.). CRC Press.\n",
    "\n",
    "Na, S., Lee, J., & Lee, K. (2019). Forecasting e-commerce demand using hybrid ARIMA and LSTM models. Journal of Business Research, 100, 124–135. https://doi.org/10.1016/j.jbusres.2018.12.027\n",
    "\n",
    "United Nations. (2015). Transforming our world: The 2030 Agenda for Sustainable Development (A/RES/70/1). Retrieved September 20, 2025, from https://sdgs.un.org/2030agenda\n",
    "\n",
    "Olist. (2018). Brazilian E-Commerce Public Dataset by Olist [Data set]. Kaggle. Retrieved September 20, 2025, from https://www.kaggle.com/datasets/olistbr/brazilian-ecommerce\n"
   ]
  },
  {
   "cell_type": "code",
   "execution_count": 4,
   "metadata": {
    "id": "Ad98o5dRo8Wq"
   },
   "outputs": [],
   "source": [
    "#@title **Avaliação**\n",
    "Introducao = 10 #@param {type:\"slider\", min:0, max:10, step:1}\n",
    "\n",
    "Fonte_dos_dados = 10 #@param {type:\"slider\", min:0, max:10, step:1}\n",
    "\n",
    "Solucao_proposta = 10 #@param {type:\"slider\", min:0, max:10, step:1}\n",
    "\n",
    "Referencias = 10 #@param {type:\"slider\", min:0, max:10, step:1}"
   ]
  },
  {
   "cell_type": "code",
   "execution_count": 6,
   "metadata": {
    "colab": {
     "base_uri": "https://localhost:8080/",
     "height": 178
    },
    "id": "8R_VW8bEpKvN",
    "outputId": "0b59fd57-1881-46d9-8671-d6355e5ee933"
   },
   "outputs": [
    {
     "name": "stdout",
     "output_type": "stream",
     "text": [
      "Nota da entrega 10.0\n",
      "\n"
     ]
    },
    {
     "data": {
      "text/html": [
       "<div>\n",
       "<style scoped>\n",
       "    .dataframe tbody tr th:only-of-type {\n",
       "        vertical-align: middle;\n",
       "    }\n",
       "\n",
       "    .dataframe tbody tr th {\n",
       "        vertical-align: top;\n",
       "    }\n",
       "\n",
       "    .dataframe thead th {\n",
       "        text-align: right;\n",
       "    }\n",
       "</style>\n",
       "<table border=\"1\" class=\"dataframe\">\n",
       "  <thead>\n",
       "    <tr style=\"text-align: right;\">\n",
       "      <th></th>\n",
       "      <th>nome</th>\n",
       "      <th>nota</th>\n",
       "    </tr>\n",
       "  </thead>\n",
       "  <tbody>\n",
       "    <tr>\n",
       "      <th>0</th>\n",
       "      <td>Carlos Oliveira</td>\n",
       "      <td>10.0</td>\n",
       "    </tr>\n",
       "    <tr>\n",
       "      <th>1</th>\n",
       "      <td>Erick Isidoro</td>\n",
       "      <td>10.0</td>\n",
       "    </tr>\n",
       "    <tr>\n",
       "      <th>2</th>\n",
       "      <td>Felipe Perraz</td>\n",
       "      <td>10.0</td>\n",
       "    </tr>\n",
       "  </tbody>\n",
       "</table>\n",
       "</div>"
      ],
      "text/plain": [
       "              nome  nota\n",
       "0  Carlos Oliveira  10.0\n",
       "1    Erick Isidoro  10.0\n",
       "2    Felipe Perraz  10.0"
      ]
     },
     "metadata": {},
     "output_type": "display_data"
    }
   ],
   "source": [
    "#@title **Nota Final**\n",
    "nota = 0.30*Introducao + 0.30*Fonte_dos_dados + 0.30*Solucao_proposta + 0.10*Referencias\n",
    "\n",
    "print(f'Nota da entrega {nota :.1f}')\n",
    "\n",
    "import numpy as np\n",
    "import pandas as pd\n",
    "\n",
    "alunos = pd.DataFrame()\n",
    "\n",
    "lista_nome = []\n",
    "\n",
    "for i in range(1,4):\n",
    "  exec(\"if Aluno\" + str(i) + \" !='None':  lista = Aluno\" + str(i) + \".split(','); lista_nome.append(lista[0]);\")\n",
    "\n",
    "alunos['nome'] = lista_nome\n",
    "alunos['nota'] = np.round(nota,1)\n",
    "print()\n",
    "display(alunos)"
   ]
  }
 ],
 "metadata": {
  "colab": {
   "include_colab_link": true,
   "provenance": []
  },
  "kernelspec": {
   "display_name": "base",
   "language": "python",
   "name": "python3"
  },
  "language_info": {
   "codemirror_mode": {
    "name": "ipython",
    "version": 3
   },
   "file_extension": ".py",
   "mimetype": "text/x-python",
   "name": "python",
   "nbconvert_exporter": "python",
   "pygments_lexer": "ipython3",
   "version": "3.12.4"
  }
 },
 "nbformat": 4,
 "nbformat_minor": 0
}
